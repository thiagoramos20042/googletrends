{
  "nbformat": 4,
  "nbformat_minor": 0,
  "metadata": {
    "colab": {
      "name": "Google Trends",
      "provenance": []
    },
    "kernelspec": {
      "name": "python3",
      "display_name": "Python 3"
    },
    "language_info": {
      "name": "python"
    }
  },
  "cells": [
    {
      "cell_type": "markdown",
      "metadata": {
        "id": "PqhcUfkbSZ_s"
      },
      "source": [
        "# Importando as bibliotecas "
      ]
    },
    {
      "cell_type": "code",
      "metadata": {
        "id": "qJWTtwgGSGnb"
      },
      "source": [
        "import pandas as pd\n",
        "import numpy as np\n",
        "import matplotlib.pyplot as plt"
      ],
      "execution_count": null,
      "outputs": []
    },
    {
      "cell_type": "markdown",
      "metadata": {
        "id": "pb9F286ISiVL"
      },
      "source": [
        "# Carregando o conjunto de dados"
      ]
    },
    {
      "cell_type": "code",
      "metadata": {
        "id": "M590vG9JSnc5"
      },
      "source": [
        "df = pd.read_csv('/content/trends.csv')\n"
      ],
      "execution_count": null,
      "outputs": []
    },
    {
      "cell_type": "markdown",
      "metadata": {
        "id": "UfN92byfTPP-"
      },
      "source": [
        "# Carregando as 10 primeiras linhas do dataframe"
      ]
    },
    {
      "cell_type": "code",
      "metadata": {
        "colab": {
          "base_uri": "https://localhost:8080/",
          "height": 359
        },
        "id": "2emXL32FTX5l",
        "outputId": "cf765e19-d6da-4029-ccca-42d92f85d2a7"
      },
      "source": [
        "df.head(10)"
      ],
      "execution_count": null,
      "outputs": [
        {
          "output_type": "execute_result",
          "data": {
            "text/html": [
              "<div>\n",
              "<style scoped>\n",
              "    .dataframe tbody tr th:only-of-type {\n",
              "        vertical-align: middle;\n",
              "    }\n",
              "\n",
              "    .dataframe tbody tr th {\n",
              "        vertical-align: top;\n",
              "    }\n",
              "\n",
              "    .dataframe thead th {\n",
              "        text-align: right;\n",
              "    }\n",
              "</style>\n",
              "<table border=\"1\" class=\"dataframe\">\n",
              "  <thead>\n",
              "    <tr style=\"text-align: right;\">\n",
              "      <th></th>\n",
              "      <th>location</th>\n",
              "      <th>year</th>\n",
              "      <th>category</th>\n",
              "      <th>rank</th>\n",
              "      <th>query</th>\n",
              "    </tr>\n",
              "  </thead>\n",
              "  <tbody>\n",
              "    <tr>\n",
              "      <th>0</th>\n",
              "      <td>Global</td>\n",
              "      <td>2001</td>\n",
              "      <td>Consumer Brands</td>\n",
              "      <td>1</td>\n",
              "      <td>Nokia</td>\n",
              "    </tr>\n",
              "    <tr>\n",
              "      <th>1</th>\n",
              "      <td>Global</td>\n",
              "      <td>2001</td>\n",
              "      <td>Consumer Brands</td>\n",
              "      <td>2</td>\n",
              "      <td>Sony</td>\n",
              "    </tr>\n",
              "    <tr>\n",
              "      <th>2</th>\n",
              "      <td>Global</td>\n",
              "      <td>2001</td>\n",
              "      <td>Consumer Brands</td>\n",
              "      <td>3</td>\n",
              "      <td>BMW</td>\n",
              "    </tr>\n",
              "    <tr>\n",
              "      <th>3</th>\n",
              "      <td>Global</td>\n",
              "      <td>2001</td>\n",
              "      <td>Consumer Brands</td>\n",
              "      <td>4</td>\n",
              "      <td>Palm</td>\n",
              "    </tr>\n",
              "    <tr>\n",
              "      <th>4</th>\n",
              "      <td>Global</td>\n",
              "      <td>2001</td>\n",
              "      <td>Consumer Brands</td>\n",
              "      <td>5</td>\n",
              "      <td>Adobe</td>\n",
              "    </tr>\n",
              "    <tr>\n",
              "      <th>5</th>\n",
              "      <td>Global</td>\n",
              "      <td>2001</td>\n",
              "      <td>Men</td>\n",
              "      <td>1</td>\n",
              "      <td>Nostradamus</td>\n",
              "    </tr>\n",
              "    <tr>\n",
              "      <th>6</th>\n",
              "      <td>Global</td>\n",
              "      <td>2001</td>\n",
              "      <td>Men</td>\n",
              "      <td>2</td>\n",
              "      <td>Osama bin Laden</td>\n",
              "    </tr>\n",
              "    <tr>\n",
              "      <th>7</th>\n",
              "      <td>Global</td>\n",
              "      <td>2001</td>\n",
              "      <td>Men</td>\n",
              "      <td>3</td>\n",
              "      <td>Eminem</td>\n",
              "    </tr>\n",
              "    <tr>\n",
              "      <th>8</th>\n",
              "      <td>Global</td>\n",
              "      <td>2001</td>\n",
              "      <td>Men</td>\n",
              "      <td>4</td>\n",
              "      <td>Michael Jackson</td>\n",
              "    </tr>\n",
              "    <tr>\n",
              "      <th>9</th>\n",
              "      <td>Global</td>\n",
              "      <td>2001</td>\n",
              "      <td>Men</td>\n",
              "      <td>5</td>\n",
              "      <td>Howard Stern</td>\n",
              "    </tr>\n",
              "  </tbody>\n",
              "</table>\n",
              "</div>"
            ],
            "text/plain": [
              "  location  year         category  rank            query\n",
              "0   Global  2001  Consumer Brands     1            Nokia\n",
              "1   Global  2001  Consumer Brands     2             Sony\n",
              "2   Global  2001  Consumer Brands     3              BMW\n",
              "3   Global  2001  Consumer Brands     4             Palm\n",
              "4   Global  2001  Consumer Brands     5            Adobe\n",
              "5   Global  2001              Men     1      Nostradamus\n",
              "6   Global  2001              Men     2  Osama bin Laden\n",
              "7   Global  2001              Men     3           Eminem\n",
              "8   Global  2001              Men     4  Michael Jackson\n",
              "9   Global  2001              Men     5     Howard Stern"
            ]
          },
          "metadata": {
            "tags": []
          },
          "execution_count": 3
        }
      ]
    },
    {
      "cell_type": "markdown",
      "metadata": {
        "id": "d9Lrhw7STvEU"
      },
      "source": [
        "# Distribuição das avaliações"
      ]
    },
    {
      "cell_type": "code",
      "metadata": {
        "colab": {
          "base_uri": "https://localhost:8080/",
          "height": 1000
        },
        "id": "a-TTJwhlUAWz",
        "outputId": "8d18f113-9258-4dc9-dfc0-e161390cacda"
      },
      "source": [
        "colunas = ['year','location','query','category','rank']\n",
        "for i in colunas:\n",
        "  print(df[i].value_counts())\n",
        "  # plot top 25\n",
        "  plt.figure(figsize=(10,4))\n",
        "  df[i].value_counts()[0:10].plot(kind='bar')\n",
        "  plt.title(i)\n",
        "  plt.grid()\n",
        "  plt.show()"
      ],
      "execution_count": null,
      "outputs": [
        {
          "output_type": "stream",
          "text": [
            "2016    3040\n",
            "2020    2980\n",
            "2013    2890\n",
            "2015    2790\n",
            "2017    2610\n",
            "2019    2605\n",
            "2018    2560\n",
            "2014    2320\n",
            "2012    2225\n",
            "2008     895\n",
            "2011     890\n",
            "2009     445\n",
            "2003     155\n",
            "2004     145\n",
            "2002     110\n",
            "2010      90\n",
            "2006      75\n",
            "2007      60\n",
            "2001      60\n",
            "2005      10\n",
            "Name: year, dtype: int64\n"
          ],
          "name": "stdout"
        },
        {
          "output_type": "display_data",
          "data": {
            "image/png": "[encoded data removed]",
            "text/plain": [
              "<Figure size 720x288 with 1 Axes>"
            ]
          },
          "metadata": {
            "tags": [],
            "needs_background": "light"
          }
        },
        {
          "output_type": "stream",
          "text": [
            "United States         2070\n",
            "Global                1135\n",
            "Japan                  765\n",
            "Canada                 690\n",
            "Brazil                 675\n",
            "                      ... \n",
            "El Salvador              5\n",
            "Dominican Republic       5\n",
            "Honduras                 5\n",
            "Sudan                    5\n",
            "Kuwait                   5\n",
            "Name: location, Length: 83, dtype: int64\n"
          ],
          "name": "stdout"
        },
        {
          "output_type": "display_data",
          "data": {
            "image/png": "[encoded data removed]",
            "text/plain": [
              "<Figure size 720x288 with 1 Axes>"
            ]
          },
          "metadata": {
            "tags": [],
            "needs_background": "light"
          }
        },
        {
          "output_type": "stream",
          "text": [
            "Paul Walker                             84\n",
            "Donald Trump                            83\n",
            "Facebook                                62\n",
            "Robin Williams                          61\n",
            "Whitney Houston                         56\n",
            "                                        ..\n",
            "肝付町                                      1\n",
            "Yo Soy                                   1\n",
            "Pasapalabras                             1\n",
            "Fast And Furious 7                       1\n",
            "Mental health awareness in Singapore     1\n",
            "Name: query, Length: 18431, dtype: int64\n"
          ],
          "name": "stdout"
        },
        {
          "output_type": "display_data",
          "data": {
            "image/png": "[encoded data removed]",
            "text/plain": [
              "<Figure size 720x288 with 1 Axes>"
            ]
          },
          "metadata": {
            "tags": [],
            "needs_background": "light"
          }
        },
        {
          "output_type": "stream",
          "text": [
            "People                    760\n",
            "Searches                  620\n",
            "Movies                    330\n",
            "TV Shows                  305\n",
            "Películas                 250\n",
            "                         ... \n",
            "עשרת הגדולים 2020           5\n",
            "Český, česká, české...      5\n",
            "Mombasa                     5\n",
            "Планы года (начать...)      5\n",
            "Top-Trends des Jahres       5\n",
            "Name: category, Length: 2450, dtype: int64\n"
          ],
          "name": "stdout"
        },
        {
          "output_type": "display_data",
          "data": {
            "image/png": "[encoded data removed]",
            "text/plain": [
              "<Figure size 720x288 with 1 Axes>"
            ]
          },
          "metadata": {
            "tags": [],
            "needs_background": "light"
          }
        },
        {
          "output_type": "stream",
          "text": [
            "5    5391\n",
            "4    5391\n",
            "3    5391\n",
            "2    5391\n",
            "1    5391\n",
            "Name: rank, dtype: int64\n"
          ],
          "name": "stdout"
        },
        {
          "output_type": "display_data",
          "data": {
            "image/png": "[encoded data removed]",
            "text/plain": [
              "<Figure size 720x288 with 1 Axes>"
            ]
          },
          "metadata": {
            "tags": [],
            "needs_background": "light"
          }
        }
      ]
    },
    {
      "cell_type": "markdown",
      "metadata": {
        "id": "P24q57kWVqQ1"
      },
      "source": [
        "# Todas as localidades que estão no dataframe"
      ]
    },
    {
      "cell_type": "code",
      "metadata": {
        "colab": {
          "base_uri": "https://localhost:8080/"
        },
        "id": "8nuHP1OQVxBE",
        "outputId": "b6f5427c-c684-4b94-ac3a-575d9e4ed758"
      },
      "source": [
        "print(df.location.unique().tolist())"
      ],
      "execution_count": null,
      "outputs": [
        {
          "output_type": "stream",
          "text": [
            "['Global', 'France', 'Germany', 'United Kingdom', 'Australia', 'Canada', 'Italy', 'Netherlands', 'Spain', 'United States', 'Argentina', 'Austria', 'Belgium', 'Brazil', 'Chile', 'China', 'Colombia', 'Czechia', 'Denmark', 'Finland', 'Hong Kong', 'India', 'Malaysia', 'Mexico', 'New Zealand', 'Philippines', 'Poland', 'Russia', 'Singapore', 'South Africa', 'South Korea', 'Sweden', 'Switzerland', 'Taiwan', 'Thailand', 'United Arab Emirates', 'Costa Rica', 'Croatia', 'Dominican Republic', 'Ecuador', 'El Salvador', 'Guatemala', 'Honduras', 'Japan', 'Kenya', 'Nigeria', 'Panama', 'Peru', 'Egypt', 'Hungary', 'Ireland', 'Israel', 'Norway', 'Portugal', 'Romania', 'Saudi Arabia', 'Serbia', 'Slovakia', 'Turkey', 'Ukraine', 'Ghana', 'Indonesia', 'Senegal', 'Uganda', 'Vietnam', 'Bangladesh', 'Bulgaria', 'Estonia', 'Latvia', 'Lithuania', 'Pakistan', 'Puerto Rico', 'Slovenia', 'Uruguay', 'Venezuela', 'Greece', 'Belarus', 'Kazakhstan', 'Sri Lanka', 'Zimbabwe', 'Myanmar (Burma)', 'Kuwait', 'Sudan']\n"
          ],
          "name": "stdout"
        }
      ]
    },
    {
      "cell_type": "markdown",
      "metadata": {
        "id": "voeYR_LnWNvI"
      },
      "source": [
        "# Top 100 das categorias pesquisadas"
      ]
    },
    {
      "cell_type": "code",
      "metadata": {
        "colab": {
          "base_uri": "https://localhost:8080/"
        },
        "id": "cPitLOX4WSRV",
        "outputId": "7a701d8b-3995-46bb-e3b7-76ac6b580d85"
      },
      "source": [
        "print(df['category'].value_counts()[0:100].index.tolist())"
      ],
      "execution_count": null,
      "outputs": [
        {
          "output_type": "stream",
          "text": [
            "['People', 'Searches', 'Movies', 'TV Shows', 'Películas', 'Songs', 'Recipes', 'What is...?', 'How to...', 'News', 'Athletes', 'Events', 'Acontecimientos', 'Deportistas', 'Cómo', 'Canciones', 'What is...', 'Búsquedas', 'Deportes', 'Sports', 'Fastest Rising Searches ', 'Cómo...', 'Personas', 'Personajes', 'Música', 'Fastest Rising Searches', 'Actors', 'Politicians', 'Musicians', 'Eventos deportivos', 'Gadgets', 'Loss', 'Games', 'Programas de TV', 'How to...?', 'Travel Destinations', 'Losses', 'Qué es', 'Fastest Rising', 'Celebrities', 'Acontecimientos del año', 'Diets', 'Emergentes', 'Tendencias', 'Qué...', 'Memes', 'Filme', 'Qué', 'Image Searches', 'Personalidades', 'Food & Drinks', 'Sport', 'Preguntas del año', '¿Qué es...?', 'Most Popular', 'Entertainment', 'Overall', '¿Cómo...?', 'Filmy', 'Cantantes', 'Lyrics', 'TV', 'Top Trending', 'Recetas', 'Люди', 'Film', 'Song Lyrics', 'الأبحاث', 'Musicians and Bands', 'Ludzie', 'Overall Searches', 'Video Games', 'News Events', 'الشخصيات العامة', 'Questions', 'Near me', 'Sporting Events', 'Trending Searches', 'الأغاني', 'Filmes', 'Найпопулярніші запити', 'Music Artists', 'Films', 'Consumer Tech', 'Suchbegriffe', '話題の人（女性）', '話題の人（男性）', 'Personer', 'Qué es...', '게임', 'المسلسلات', 'General', 'Ricette', 'Technology', '영화', 'Персона года', 'Wydarzenia', '熱爆國際頭條', 'Abschiede', 'Was-Fragen']\n"
          ],
          "name": "stdout"
        }
      ]
    },
    {
      "cell_type": "markdown",
      "metadata": {
        "id": "qXKx0WryXb52"
      },
      "source": [
        "# Top 100 dos assunto pesquisados"
      ]
    },
    {
      "cell_type": "code",
      "metadata": {
        "colab": {
          "base_uri": "https://localhost:8080/"
        },
        "id": "pBjrS60WXfke",
        "outputId": "1e8e06f9-0ff6-4bc2-ea0f-978bdeac7af3"
      },
      "source": [
        "print(df['query'].value_counts()[0:100].index.tolist())"
      ],
      "execution_count": null,
      "outputs": [
        {
          "output_type": "stream",
          "text": [
            "['Paul Walker', 'Donald Trump', 'Facebook', 'Robin Williams', 'Whitney Houston', 'Coronavirus', 'Avicii', 'Kobe Bryant', 'Meghan Markle', 'Joe Biden', 'Cory Monteith', 'Adele', 'iPhone 5s', 'YouTube', 'iPhone 6', 'Gangnam Style', 'Wimbledon', 'Cameron Boyce', 'Stan Lee', 'Game of Thrones', 'iPhone 5', 'David Bowie', 'Jennifer Lawrence', 'World Cup', 'Prince', 'Brexit', 'Joker', 'Nelson Mandela', 'Deadpool', 'Amy Winehouse', 'Stranger Things', 'Pokemon Go', 'Tour de France', 'Copa América', 'Kate Middleton', 'Euro 2016', 'Michael Phelps', 'Lamar Odom', 'Britney Spears', 'Despacito', 'Chester Bennington', 'Black Panther', 'Neymar', 'Naya Rivera', '台風', 'iPhone 8', 'Chris Cornell', 'Rugby World Cup', 'Charlie Hebdo', 'Freddie Mercury', 'Bohemian Rhapsody', 'Oscar Pistorius', 'Demi Lovato', 'iPhone 7', 'Paris', 'Ebola', 'Venom', 'Zoom', 'Captain Marvel', 'Jurassic World', 'Boris Johnson', 'Deadpool 2', 'Kim Jong Un', 'Champions League', 'Ed Sheeran', 'iPhone 11', '13 Reasons Why', 'iPhone X', 'Michael Schumacher', 'Chadwick Boseman', 'Big Brother', 'Conchita Wurst', 'Chernobyl', 'Euro 2012', 'Eminem', 'World Cup 2014', 'Olympics', 'Samsung Galaxy S4', 'Luke Perry', 'Suicide Squad', 'Annabelle', 'Google Classroom', 'Caitlyn Jenner', 'Wonder Woman', 'Avengers Endgame', 'Netflix', 'Agar.io', 'Usain Bolt', 'Boston Marathon', 'Slither.io', 'Pokémon Go', 'George Floyd', 'Ronda Rousey', 'Mac Miller', 'Parasite', 'NBA', 'One Direction', 'PM2.5', 'Bitcoin', 'US election']\n"
          ],
          "name": "stdout"
        }
      ]
    },
    {
      "cell_type": "markdown",
      "metadata": {
        "id": "aAOdsIi3YBkD"
      },
      "source": [
        "# Filtro específico por região,ano,categoria,assunto\n",
        "\n"
      ]
    },
    {
      "cell_type": "code",
      "metadata": {
        "id": "PbC-wqPaYH-x"
      },
      "source": [
        "busca_pais = 'Brazil'\n",
        "df_filtro = df[df.location==busca_pais]"
      ],
      "execution_count": 118,
      "outputs": []
    },
    {
      "cell_type": "code",
      "metadata": {
        "colab": {
          "base_uri": "https://localhost:8080/",
          "height": 990
        },
        "id": "Bwe66nFeYvw_",
        "outputId": "cd47878c-05d1-4c6b-d298-59085e8bf5be"
      },
      "source": [
        "colunas = ['year','category','query']\n",
        "for i in colunas: \n",
        "  plt.figure(figsize=(10,4))\n",
        "  df_filtro[i].value_counts()[0:25].plot(kind='bar')\n",
        "  plt.title('Location = ' + busca_pais + ' / ' + i)\n",
        "  plt.grid()\n",
        "  plt.show()"
      ],
      "execution_count": 119,
      "outputs": [
        {
          "output_type": "display_data",
          "data": {
            "image/png": "[encoded data removed]",
            "text/plain": [
              "<Figure size 720x288 with 1 Axes>"
            ]
          },
          "metadata": {
            "tags": [],
            "needs_background": "light"
          }
        },
        {
          "output_type": "display_data",
          "data": {
            "image/png": "[encoded data removed]",
            "text/plain": [
              "<Figure size 720x288 with 1 Axes>"
            ]
          },
          "metadata": {
            "tags": [],
            "needs_background": "light"
          }
        },
        {
          "output_type": "display_data",
          "data": {
            "image/png": "[encoded data removed]",
            "text/plain": [
              "<Figure size 720x288 with 1 Axes>"
            ]
          },
          "metadata": {
            "tags": [],
            "needs_background": "light"
          }
        }
      ]
    },
    {
      "cell_type": "markdown",
      "metadata": {
        "id": "q-8bCgSxZl6i"
      },
      "source": [
        "# Filtro específico por ano"
      ]
    },
    {
      "cell_type": "code",
      "metadata": {
        "id": "sosCKl-fZp_5"
      },
      "source": [
        "escolha_ano = 2020\n",
        "df_filtro = df[df.year==escolha_ano]"
      ],
      "execution_count": 114,
      "outputs": []
    },
    {
      "cell_type": "code",
      "metadata": {
        "colab": {
          "base_uri": "https://localhost:8080/",
          "height": 1000
        },
        "id": "cNt46IdLaQRj",
        "outputId": "9e9b780a-6baa-4b61-a2cb-cd5aad0bbc0a"
      },
      "source": [
        "colunas = ['query','category','location']\n",
        "\n",
        "for i in colunas:\n",
        "  plt.figure(figsize=(10,4))\n",
        "  df_filtro[i].value_counts()[0:25].plot(kind='bar')\n",
        "  plt.title('Year = ' + str(escolha_ano) + ' / ' + i)\n",
        "  plt.grid()\n",
        "  plt.show()\n",
        "  plt.savefig\n",
        "\n"
      ],
      "execution_count": 116,
      "outputs": [
        {
          "output_type": "display_data",
          "data": {
            "image/png": "[encoded data removed]",
            "text/plain": [
              "<Figure size 720x288 with 1 Axes>"
            ]
          },
          "metadata": {
            "tags": [],
            "needs_background": "light"
          }
        },
        {
          "output_type": "display_data",
          "data": {
            "image/png": "[encoded data removed]",
            "text/plain": [
              "<Figure size 720x288 with 1 Axes>"
            ]
          },
          "metadata": {
            "tags": [],
            "needs_background": "light"
          }
        },
        {
          "output_type": "display_data",
          "data": {
            "image/png": "[encoded data removed]",
            "text/plain": [
              "<Figure size 720x288 with 1 Axes>"
            ]
          },
          "metadata": {
            "tags": [],
            "needs_background": "light"
          }
        }
      ]
    },
    {
      "cell_type": "markdown",
      "metadata": {
        "id": "y2pqneCObg_y"
      },
      "source": [
        "# Top 5 (ano,pais,categoria) "
      ]
    },
    {
      "cell_type": "code",
      "metadata": {
        "colab": {
          "base_uri": "https://localhost:8080/",
          "height": 204
        },
        "id": "oMUxdhZ0bqNw",
        "outputId": "99cf9b20-d966-416f-aba6-f850893de0f0"
      },
      "source": [
        "escolha_ano = 2020\n",
        "escolha_pais = 'Brazil'\n",
        "escolha_categoria = 'Em casa'\n",
        "df[(df.year==escolha_ano) & (df.category==escolha_categoria) & (df.location==escolha_pais)]"
      ],
      "execution_count": 111,
      "outputs": [
        {
          "output_type": "execute_result",
          "data": {
            "text/html": [
              "<div>\n",
              "<style scoped>\n",
              "    .dataframe tbody tr th:only-of-type {\n",
              "        vertical-align: middle;\n",
              "    }\n",
              "\n",
              "    .dataframe tbody tr th {\n",
              "        vertical-align: top;\n",
              "    }\n",
              "\n",
              "    .dataframe thead th {\n",
              "        text-align: right;\n",
              "    }\n",
              "</style>\n",
              "<table border=\"1\" class=\"dataframe\">\n",
              "  <thead>\n",
              "    <tr style=\"text-align: right;\">\n",
              "      <th></th>\n",
              "      <th>location</th>\n",
              "      <th>year</th>\n",
              "      <th>category</th>\n",
              "      <th>rank</th>\n",
              "      <th>query</th>\n",
              "    </tr>\n",
              "  </thead>\n",
              "  <tbody>\n",
              "    <tr>\n",
              "      <th>24235</th>\n",
              "      <td>Brazil</td>\n",
              "      <td>2020</td>\n",
              "      <td>Em casa</td>\n",
              "      <td>1</td>\n",
              "      <td>Exercícios para fazer em casa</td>\n",
              "    </tr>\n",
              "    <tr>\n",
              "      <th>24236</th>\n",
              "      <td>Brazil</td>\n",
              "      <td>2020</td>\n",
              "      <td>Em casa</td>\n",
              "      <td>2</td>\n",
              "      <td>Como fazer máscara em casa?</td>\n",
              "    </tr>\n",
              "    <tr>\n",
              "      <th>24237</th>\n",
              "      <td>Brazil</td>\n",
              "      <td>2020</td>\n",
              "      <td>Em casa</td>\n",
              "      <td>3</td>\n",
              "      <td>Fotos em casa</td>\n",
              "    </tr>\n",
              "    <tr>\n",
              "      <th>24238</th>\n",
              "      <td>Brazil</td>\n",
              "      <td>2020</td>\n",
              "      <td>Em casa</td>\n",
              "      <td>4</td>\n",
              "      <td>Horta em casa</td>\n",
              "    </tr>\n",
              "    <tr>\n",
              "      <th>24239</th>\n",
              "      <td>Brazil</td>\n",
              "      <td>2020</td>\n",
              "      <td>Em casa</td>\n",
              "      <td>5</td>\n",
              "      <td>Academia em casa</td>\n",
              "    </tr>\n",
              "  </tbody>\n",
              "</table>\n",
              "</div>"
            ],
            "text/plain": [
              "      location  year category  rank                          query\n",
              "24235   Brazil  2020  Em casa     1  Exercícios para fazer em casa\n",
              "24236   Brazil  2020  Em casa     2    Como fazer máscara em casa?\n",
              "24237   Brazil  2020  Em casa     3                  Fotos em casa\n",
              "24238   Brazil  2020  Em casa     4                  Horta em casa\n",
              "24239   Brazil  2020  Em casa     5               Academia em casa"
            ]
          },
          "metadata": {
            "tags": []
          },
          "execution_count": 111
        }
      ]
    },
    {
      "cell_type": "markdown",
      "metadata": {
        "id": "d_yi6VHgdkTx"
      },
      "source": [
        "# Top 5 em 2020 por categoria"
      ]
    },
    {
      "cell_type": "code",
      "metadata": {
        "colab": {
          "base_uri": "https://localhost:8080/",
          "height": 419
        },
        "id": "VxmUiq76drVj",
        "outputId": "6c74e9ae-7827-4cdc-ee46-b7880074de0e"
      },
      "source": [
        "categoria_top5_2020 = df[(df.year==2020) & (df.location=='Brazil')]\n",
        "categoria_top5_2020 = categoria_top5_2020.drop(['location','year'],axis=1)\n",
        "\n",
        "categoria_top5_2020"
      ],
      "execution_count": null,
      "outputs": [
        {
          "output_type": "execute_result",
          "data": {
            "text/html": [
              "<div>\n",
              "<style scoped>\n",
              "    .dataframe tbody tr th:only-of-type {\n",
              "        vertical-align: middle;\n",
              "    }\n",
              "\n",
              "    .dataframe tbody tr th {\n",
              "        vertical-align: top;\n",
              "    }\n",
              "\n",
              "    .dataframe thead th {\n",
              "        text-align: right;\n",
              "    }\n",
              "</style>\n",
              "<table border=\"1\" class=\"dataframe\">\n",
              "  <thead>\n",
              "    <tr style=\"text-align: right;\">\n",
              "      <th></th>\n",
              "      <th>category</th>\n",
              "      <th>rank</th>\n",
              "      <th>query</th>\n",
              "    </tr>\n",
              "  </thead>\n",
              "  <tbody>\n",
              "    <tr>\n",
              "      <th>24200</th>\n",
              "      <td>Buscas do ano</td>\n",
              "      <td>1</td>\n",
              "      <td>Coronavírus</td>\n",
              "    </tr>\n",
              "    <tr>\n",
              "      <th>24201</th>\n",
              "      <td>Buscas do ano</td>\n",
              "      <td>2</td>\n",
              "      <td>Auxílio emergencial</td>\n",
              "    </tr>\n",
              "    <tr>\n",
              "      <th>24202</th>\n",
              "      <td>Buscas do ano</td>\n",
              "      <td>3</td>\n",
              "      <td>Eleições 2020</td>\n",
              "    </tr>\n",
              "    <tr>\n",
              "      <th>24203</th>\n",
              "      <td>Buscas do ano</td>\n",
              "      <td>4</td>\n",
              "      <td>Eleições EUA</td>\n",
              "    </tr>\n",
              "    <tr>\n",
              "      <th>24204</th>\n",
              "      <td>Buscas do ano</td>\n",
              "      <td>5</td>\n",
              "      <td>BBB 2020</td>\n",
              "    </tr>\n",
              "    <tr>\n",
              "      <th>...</th>\n",
              "      <td>...</td>\n",
              "      <td>...</td>\n",
              "      <td>...</td>\n",
              "    </tr>\n",
              "    <tr>\n",
              "      <th>24270</th>\n",
              "      <td>TV</td>\n",
              "      <td>1</td>\n",
              "      <td>BBB 2020</td>\n",
              "    </tr>\n",
              "    <tr>\n",
              "      <th>24271</th>\n",
              "      <td>TV</td>\n",
              "      <td>2</td>\n",
              "      <td>CNN Brasil</td>\n",
              "    </tr>\n",
              "    <tr>\n",
              "      <th>24272</th>\n",
              "      <td>TV</td>\n",
              "      <td>3</td>\n",
              "      <td>A Fazenda 2</td>\n",
              "    </tr>\n",
              "    <tr>\n",
              "      <th>24273</th>\n",
              "      <td>TV</td>\n",
              "      <td>4</td>\n",
              "      <td>Bom Sucesso</td>\n",
              "    </tr>\n",
              "    <tr>\n",
              "      <th>24274</th>\n",
              "      <td>TV</td>\n",
              "      <td>5</td>\n",
              "      <td>Amor de mãe</td>\n",
              "    </tr>\n",
              "  </tbody>\n",
              "</table>\n",
              "<p>75 rows × 3 columns</p>\n",
              "</div>"
            ],
            "text/plain": [
              "            category  rank                query\n",
              "24200  Buscas do ano     1          Coronavírus\n",
              "24201  Buscas do ano     2  Auxílio emergencial\n",
              "24202  Buscas do ano     3        Eleições 2020\n",
              "24203  Buscas do ano     4         Eleições EUA\n",
              "24204  Buscas do ano     5             BBB 2020\n",
              "...              ...   ...                  ...\n",
              "24270             TV     1             BBB 2020\n",
              "24271             TV     2           CNN Brasil\n",
              "24272             TV     3          A Fazenda 2\n",
              "24273             TV     4          Bom Sucesso\n",
              "24274             TV     5          Amor de mãe\n",
              "\n",
              "[75 rows x 3 columns]"
            ]
          },
          "metadata": {
            "tags": []
          },
          "execution_count": 50
        }
      ]
    },
    {
      "cell_type": "markdown",
      "metadata": {
        "id": "pUoKM1LQmPoG"
      },
      "source": [
        "# Salvando o dataframe com os top 5 de cada categoria pesquisada"
      ]
    },
    {
      "cell_type": "code",
      "metadata": {
        "id": "IAtNRYPik7a-"
      },
      "source": [
        "#categoria_top5_2020.to_csv('categoria_top5_2020')"
      ],
      "execution_count": null,
      "outputs": []
    },
    {
      "cell_type": "code",
      "metadata": {
        "colab": {
          "base_uri": "https://localhost:8080/",
          "height": 1000
        },
        "id": "md0jXicsmbdc",
        "outputId": "7077e47e-92c2-4f04-8969-fceae5d9a7d3"
      },
      "source": [
        "categoria_top5_2020.head(60)"
      ],
      "execution_count": null,
      "outputs": [
        {
          "output_type": "execute_result",
          "data": {
            "text/html": [
              "<div>\n",
              "<style scoped>\n",
              "    .dataframe tbody tr th:only-of-type {\n",
              "        vertical-align: middle;\n",
              "    }\n",
              "\n",
              "    .dataframe tbody tr th {\n",
              "        vertical-align: top;\n",
              "    }\n",
              "\n",
              "    .dataframe thead th {\n",
              "        text-align: right;\n",
              "    }\n",
              "</style>\n",
              "<table border=\"1\" class=\"dataframe\">\n",
              "  <thead>\n",
              "    <tr style=\"text-align: right;\">\n",
              "      <th></th>\n",
              "      <th>category</th>\n",
              "      <th>rank</th>\n",
              "      <th>query</th>\n",
              "    </tr>\n",
              "  </thead>\n",
              "  <tbody>\n",
              "    <tr>\n",
              "      <th>24200</th>\n",
              "      <td>Buscas do ano</td>\n",
              "      <td>1</td>\n",
              "      <td>Coronavírus</td>\n",
              "    </tr>\n",
              "    <tr>\n",
              "      <th>24201</th>\n",
              "      <td>Buscas do ano</td>\n",
              "      <td>2</td>\n",
              "      <td>Auxílio emergencial</td>\n",
              "    </tr>\n",
              "    <tr>\n",
              "      <th>24202</th>\n",
              "      <td>Buscas do ano</td>\n",
              "      <td>3</td>\n",
              "      <td>Eleições 2020</td>\n",
              "    </tr>\n",
              "    <tr>\n",
              "      <th>24203</th>\n",
              "      <td>Buscas do ano</td>\n",
              "      <td>4</td>\n",
              "      <td>Eleições EUA</td>\n",
              "    </tr>\n",
              "    <tr>\n",
              "      <th>24204</th>\n",
              "      <td>Buscas do ano</td>\n",
              "      <td>5</td>\n",
              "      <td>BBB 2020</td>\n",
              "    </tr>\n",
              "    <tr>\n",
              "      <th>24205</th>\n",
              "      <td>O que é</td>\n",
              "      <td>1</td>\n",
              "      <td>O que é lockdown?</td>\n",
              "    </tr>\n",
              "    <tr>\n",
              "      <th>24206</th>\n",
              "      <td>O que é</td>\n",
              "      <td>2</td>\n",
              "      <td>O que é quarentena?</td>\n",
              "    </tr>\n",
              "    <tr>\n",
              "      <th>24207</th>\n",
              "      <td>O que é</td>\n",
              "      <td>3</td>\n",
              "      <td>O que é pandemia?</td>\n",
              "    </tr>\n",
              "    <tr>\n",
              "      <th>24208</th>\n",
              "      <td>O que é</td>\n",
              "      <td>4</td>\n",
              "      <td>O que é cadastro único?</td>\n",
              "    </tr>\n",
              "    <tr>\n",
              "      <th>24209</th>\n",
              "      <td>O que é</td>\n",
              "      <td>5</td>\n",
              "      <td>O que é coronavírus?</td>\n",
              "    </tr>\n",
              "    <tr>\n",
              "      <th>24210</th>\n",
              "      <td>Personalidades</td>\n",
              "      <td>1</td>\n",
              "      <td>Donald Trump</td>\n",
              "    </tr>\n",
              "    <tr>\n",
              "      <th>24211</th>\n",
              "      <td>Personalidades</td>\n",
              "      <td>2</td>\n",
              "      <td>Luiz Henrique Mandetta</td>\n",
              "    </tr>\n",
              "    <tr>\n",
              "      <th>24212</th>\n",
              "      <td>Personalidades</td>\n",
              "      <td>3</td>\n",
              "      <td>Joe Biden</td>\n",
              "    </tr>\n",
              "    <tr>\n",
              "      <th>24213</th>\n",
              "      <td>Personalidades</td>\n",
              "      <td>4</td>\n",
              "      <td>Sergio Moro</td>\n",
              "    </tr>\n",
              "    <tr>\n",
              "      <th>24214</th>\n",
              "      <td>Personalidades</td>\n",
              "      <td>5</td>\n",
              "      <td>Kim Jong Un</td>\n",
              "    </tr>\n",
              "    <tr>\n",
              "      <th>24215</th>\n",
              "      <td>Acontecimentos</td>\n",
              "      <td>1</td>\n",
              "      <td>Coronavírus</td>\n",
              "    </tr>\n",
              "    <tr>\n",
              "      <th>24216</th>\n",
              "      <td>Acontecimentos</td>\n",
              "      <td>2</td>\n",
              "      <td>Eleições 2020</td>\n",
              "    </tr>\n",
              "    <tr>\n",
              "      <th>24217</th>\n",
              "      <td>Acontecimentos</td>\n",
              "      <td>3</td>\n",
              "      <td>Eleições EUA</td>\n",
              "    </tr>\n",
              "    <tr>\n",
              "      <th>24218</th>\n",
              "      <td>Acontecimentos</td>\n",
              "      <td>4</td>\n",
              "      <td>Caso Mariana Ferrer</td>\n",
              "    </tr>\n",
              "    <tr>\n",
              "      <th>24219</th>\n",
              "      <td>Acontecimentos</td>\n",
              "      <td>5</td>\n",
              "      <td>Nota de 200 reais</td>\n",
              "    </tr>\n",
              "    <tr>\n",
              "      <th>24220</th>\n",
              "      <td>Aprender...</td>\n",
              "      <td>1</td>\n",
              "      <td>...a tocar violão</td>\n",
              "    </tr>\n",
              "    <tr>\n",
              "      <th>24221</th>\n",
              "      <td>Aprender...</td>\n",
              "      <td>2</td>\n",
              "      <td>... a desenhar</td>\n",
              "    </tr>\n",
              "    <tr>\n",
              "      <th>24222</th>\n",
              "      <td>Aprender...</td>\n",
              "      <td>3</td>\n",
              "      <td>...espanhol</td>\n",
              "    </tr>\n",
              "    <tr>\n",
              "      <th>24223</th>\n",
              "      <td>Aprender...</td>\n",
              "      <td>4</td>\n",
              "      <td>...italiano</td>\n",
              "    </tr>\n",
              "    <tr>\n",
              "      <th>24224</th>\n",
              "      <td>Aprender...</td>\n",
              "      <td>5</td>\n",
              "      <td>....coreano</td>\n",
              "    </tr>\n",
              "    <tr>\n",
              "      <th>24225</th>\n",
              "      <td>Campeonatos/Ligas esportivas</td>\n",
              "      <td>1</td>\n",
              "      <td>Copa do Brasil</td>\n",
              "    </tr>\n",
              "    <tr>\n",
              "      <th>24226</th>\n",
              "      <td>Campeonatos/Ligas esportivas</td>\n",
              "      <td>2</td>\n",
              "      <td>Brasileirão</td>\n",
              "    </tr>\n",
              "    <tr>\n",
              "      <th>24227</th>\n",
              "      <td>Campeonatos/Ligas esportivas</td>\n",
              "      <td>3</td>\n",
              "      <td>NBA</td>\n",
              "    </tr>\n",
              "    <tr>\n",
              "      <th>24228</th>\n",
              "      <td>Campeonatos/Ligas esportivas</td>\n",
              "      <td>4</td>\n",
              "      <td>Campeonato Paulista</td>\n",
              "    </tr>\n",
              "    <tr>\n",
              "      <th>24229</th>\n",
              "      <td>Campeonatos/Ligas esportivas</td>\n",
              "      <td>5</td>\n",
              "      <td>Champions League</td>\n",
              "    </tr>\n",
              "    <tr>\n",
              "      <th>24230</th>\n",
              "      <td>Como fazer</td>\n",
              "      <td>1</td>\n",
              "      <td>Como fazer máscara de tecido?</td>\n",
              "    </tr>\n",
              "    <tr>\n",
              "      <th>24231</th>\n",
              "      <td>Como fazer</td>\n",
              "      <td>2</td>\n",
              "      <td>Como fazer álcool gel?</td>\n",
              "    </tr>\n",
              "    <tr>\n",
              "      <th>24232</th>\n",
              "      <td>Como fazer</td>\n",
              "      <td>3</td>\n",
              "      <td>Como fazer o cadastro único?</td>\n",
              "    </tr>\n",
              "    <tr>\n",
              "      <th>24233</th>\n",
              "      <td>Como fazer</td>\n",
              "      <td>4</td>\n",
              "      <td>Como fazer avatar no Facebook?</td>\n",
              "    </tr>\n",
              "    <tr>\n",
              "      <th>24234</th>\n",
              "      <td>Como fazer</td>\n",
              "      <td>5</td>\n",
              "      <td>Como fazer o cadastro do auxílio emergencial?</td>\n",
              "    </tr>\n",
              "    <tr>\n",
              "      <th>24235</th>\n",
              "      <td>Em casa</td>\n",
              "      <td>1</td>\n",
              "      <td>Exercícios para fazer em casa</td>\n",
              "    </tr>\n",
              "    <tr>\n",
              "      <th>24236</th>\n",
              "      <td>Em casa</td>\n",
              "      <td>2</td>\n",
              "      <td>Como fazer máscara em casa?</td>\n",
              "    </tr>\n",
              "    <tr>\n",
              "      <th>24237</th>\n",
              "      <td>Em casa</td>\n",
              "      <td>3</td>\n",
              "      <td>Fotos em casa</td>\n",
              "    </tr>\n",
              "    <tr>\n",
              "      <th>24238</th>\n",
              "      <td>Em casa</td>\n",
              "      <td>4</td>\n",
              "      <td>Horta em casa</td>\n",
              "    </tr>\n",
              "    <tr>\n",
              "      <th>24239</th>\n",
              "      <td>Em casa</td>\n",
              "      <td>5</td>\n",
              "      <td>Academia em casa</td>\n",
              "    </tr>\n",
              "    <tr>\n",
              "      <th>24240</th>\n",
              "      <td>Filmes</td>\n",
              "      <td>1</td>\n",
              "      <td>Pantera Negra</td>\n",
              "    </tr>\n",
              "    <tr>\n",
              "      <th>24241</th>\n",
              "      <td>Filmes</td>\n",
              "      <td>2</td>\n",
              "      <td>365 dias</td>\n",
              "    </tr>\n",
              "    <tr>\n",
              "      <th>24242</th>\n",
              "      <td>Filmes</td>\n",
              "      <td>3</td>\n",
              "      <td>Milagre na Cela 7</td>\n",
              "    </tr>\n",
              "    <tr>\n",
              "      <th>24243</th>\n",
              "      <td>Filmes</td>\n",
              "      <td>4</td>\n",
              "      <td>Parasita</td>\n",
              "    </tr>\n",
              "    <tr>\n",
              "      <th>24244</th>\n",
              "      <td>Filmes</td>\n",
              "      <td>5</td>\n",
              "      <td>Frozen 2</td>\n",
              "    </tr>\n",
              "    <tr>\n",
              "      <th>24245</th>\n",
              "      <td>Games</td>\n",
              "      <td>1</td>\n",
              "      <td>Among Us</td>\n",
              "    </tr>\n",
              "    <tr>\n",
              "      <th>24246</th>\n",
              "      <td>Games</td>\n",
              "      <td>2</td>\n",
              "      <td>Valorant</td>\n",
              "    </tr>\n",
              "    <tr>\n",
              "      <th>24247</th>\n",
              "      <td>Games</td>\n",
              "      <td>3</td>\n",
              "      <td>Fall Guys</td>\n",
              "    </tr>\n",
              "    <tr>\n",
              "      <th>24248</th>\n",
              "      <td>Games</td>\n",
              "      <td>4</td>\n",
              "      <td>Genshin Impact</td>\n",
              "    </tr>\n",
              "    <tr>\n",
              "      <th>24249</th>\n",
              "      <td>Games</td>\n",
              "      <td>5</td>\n",
              "      <td>The Last of Us 2</td>\n",
              "    </tr>\n",
              "    <tr>\n",
              "      <th>24250</th>\n",
              "      <td>Mortes</td>\n",
              "      <td>1</td>\n",
              "      <td>Diego Maradona</td>\n",
              "    </tr>\n",
              "    <tr>\n",
              "      <th>24251</th>\n",
              "      <td>Mortes</td>\n",
              "      <td>2</td>\n",
              "      <td>Tom Veiga</td>\n",
              "    </tr>\n",
              "    <tr>\n",
              "      <th>24252</th>\n",
              "      <td>Mortes</td>\n",
              "      <td>3</td>\n",
              "      <td>Kobe Bryant</td>\n",
              "    </tr>\n",
              "    <tr>\n",
              "      <th>24253</th>\n",
              "      <td>Mortes</td>\n",
              "      <td>4</td>\n",
              "      <td>Naya Rivera</td>\n",
              "    </tr>\n",
              "    <tr>\n",
              "      <th>24254</th>\n",
              "      <td>Mortes</td>\n",
              "      <td>5</td>\n",
              "      <td>Flávio Migliaccio</td>\n",
              "    </tr>\n",
              "    <tr>\n",
              "      <th>24255</th>\n",
              "      <td>Perguntas</td>\n",
              "      <td>1</td>\n",
              "      <td>Quem matou Max?</td>\n",
              "    </tr>\n",
              "    <tr>\n",
              "      <th>24256</th>\n",
              "      <td>Perguntas</td>\n",
              "      <td>2</td>\n",
              "      <td>Quem sai do BBB?</td>\n",
              "    </tr>\n",
              "    <tr>\n",
              "      <th>24257</th>\n",
              "      <td>Perguntas</td>\n",
              "      <td>3</td>\n",
              "      <td>Quem ganhou o BBB?</td>\n",
              "    </tr>\n",
              "    <tr>\n",
              "      <th>24258</th>\n",
              "      <td>Perguntas</td>\n",
              "      <td>4</td>\n",
              "      <td>Quem ganhou as eleições nos Estados Unidos?</td>\n",
              "    </tr>\n",
              "    <tr>\n",
              "      <th>24259</th>\n",
              "      <td>Perguntas</td>\n",
              "      <td>5</td>\n",
              "      <td>Como justificar o voto?</td>\n",
              "    </tr>\n",
              "  </tbody>\n",
              "</table>\n",
              "</div>"
            ],
            "text/plain": [
              "                           category  ...                                          query\n",
              "24200                 Buscas do ano  ...                                    Coronavírus\n",
              "24201                 Buscas do ano  ...                            Auxílio emergencial\n",
              "24202                 Buscas do ano  ...                                  Eleições 2020\n",
              "24203                 Buscas do ano  ...                                   Eleições EUA\n",
              "24204                 Buscas do ano  ...                                       BBB 2020\n",
              "24205                       O que é  ...                              O que é lockdown?\n",
              "24206                       O que é  ...                            O que é quarentena?\n",
              "24207                       O que é  ...                              O que é pandemia?\n",
              "24208                       O que é  ...                        O que é cadastro único?\n",
              "24209                       O que é  ...                           O que é coronavírus?\n",
              "24210                Personalidades  ...                                   Donald Trump\n",
              "24211                Personalidades  ...                         Luiz Henrique Mandetta\n",
              "24212                Personalidades  ...                                      Joe Biden\n",
              "24213                Personalidades  ...                                    Sergio Moro\n",
              "24214                Personalidades  ...                                    Kim Jong Un\n",
              "24215                Acontecimentos  ...                                    Coronavírus\n",
              "24216                Acontecimentos  ...                                  Eleições 2020\n",
              "24217                Acontecimentos  ...                                   Eleições EUA\n",
              "24218                Acontecimentos  ...                            Caso Mariana Ferrer\n",
              "24219                Acontecimentos  ...                              Nota de 200 reais\n",
              "24220                   Aprender...  ...                              ...a tocar violão\n",
              "24221                   Aprender...  ...                                 ... a desenhar\n",
              "24222                   Aprender...  ...                                    ...espanhol\n",
              "24223                   Aprender...  ...                                    ...italiano\n",
              "24224                   Aprender...  ...                                    ....coreano\n",
              "24225  Campeonatos/Ligas esportivas  ...                                 Copa do Brasil\n",
              "24226  Campeonatos/Ligas esportivas  ...                                    Brasileirão\n",
              "24227  Campeonatos/Ligas esportivas  ...                                            NBA\n",
              "24228  Campeonatos/Ligas esportivas  ...                            Campeonato Paulista\n",
              "24229  Campeonatos/Ligas esportivas  ...                               Champions League\n",
              "24230                    Como fazer  ...                  Como fazer máscara de tecido?\n",
              "24231                    Como fazer  ...                         Como fazer álcool gel?\n",
              "24232                    Como fazer  ...                   Como fazer o cadastro único?\n",
              "24233                    Como fazer  ...                 Como fazer avatar no Facebook?\n",
              "24234                    Como fazer  ...  Como fazer o cadastro do auxílio emergencial?\n",
              "24235                       Em casa  ...                  Exercícios para fazer em casa\n",
              "24236                       Em casa  ...                    Como fazer máscara em casa?\n",
              "24237                       Em casa  ...                                  Fotos em casa\n",
              "24238                       Em casa  ...                                  Horta em casa\n",
              "24239                       Em casa  ...                               Academia em casa\n",
              "24240                        Filmes  ...                                  Pantera Negra\n",
              "24241                        Filmes  ...                                       365 dias\n",
              "24242                        Filmes  ...                              Milagre na Cela 7\n",
              "24243                        Filmes  ...                                       Parasita\n",
              "24244                        Filmes  ...                                       Frozen 2\n",
              "24245                         Games  ...                                       Among Us\n",
              "24246                         Games  ...                                       Valorant\n",
              "24247                         Games  ...                                      Fall Guys\n",
              "24248                         Games  ...                                 Genshin Impact\n",
              "24249                         Games  ...                               The Last of Us 2\n",
              "24250                        Mortes  ...                                 Diego Maradona\n",
              "24251                        Mortes  ...                                      Tom Veiga\n",
              "24252                        Mortes  ...                                    Kobe Bryant\n",
              "24253                        Mortes  ...                                    Naya Rivera\n",
              "24254                        Mortes  ...                              Flávio Migliaccio\n",
              "24255                     Perguntas  ...                                Quem matou Max?\n",
              "24256                     Perguntas  ...                               Quem sai do BBB?\n",
              "24257                     Perguntas  ...                             Quem ganhou o BBB?\n",
              "24258                     Perguntas  ...    Quem ganhou as eleições nos Estados Unidos?\n",
              "24259                     Perguntas  ...                        Como justificar o voto?\n",
              "\n",
              "[60 rows x 3 columns]"
            ]
          },
          "metadata": {
            "tags": []
          },
          "execution_count": 80
        }
      ]
    },
    {
      "cell_type": "markdown",
      "metadata": {
        "id": "Y2tr6WMRwLpF"
      },
      "source": [
        "# Adicionando filtros no dataframe"
      ]
    },
    {
      "cell_type": "code",
      "metadata": {
        "colab": {
          "base_uri": "https://localhost:8080/",
          "height": 419
        },
        "id": "iyamuD07ujxI",
        "outputId": "d8560f04-559c-4e05-d439-ce11961ed4b7"
      },
      "source": [
        "df.loc[(df['location']=='Brazil') & (df['year']>2012) & (df['rank']==1)]"
      ],
      "execution_count": null,
      "outputs": [
        {
          "output_type": "execute_result",
          "data": {
            "text/html": [
              "<div>\n",
              "<style scoped>\n",
              "    .dataframe tbody tr th:only-of-type {\n",
              "        vertical-align: middle;\n",
              "    }\n",
              "\n",
              "    .dataframe tbody tr th {\n",
              "        vertical-align: top;\n",
              "    }\n",
              "\n",
              "    .dataframe thead th {\n",
              "        text-align: right;\n",
              "    }\n",
              "</style>\n",
              "<table border=\"1\" class=\"dataframe\">\n",
              "  <thead>\n",
              "    <tr style=\"text-align: right;\">\n",
              "      <th></th>\n",
              "      <th>location</th>\n",
              "      <th>year</th>\n",
              "      <th>category</th>\n",
              "      <th>rank</th>\n",
              "      <th>query</th>\n",
              "    </tr>\n",
              "  </thead>\n",
              "  <tbody>\n",
              "    <tr>\n",
              "      <th>5370</th>\n",
              "      <td>Brazil</td>\n",
              "      <td>2013</td>\n",
              "      <td>Automobilístico</td>\n",
              "      <td>1</td>\n",
              "      <td>HB20</td>\n",
              "    </tr>\n",
              "    <tr>\n",
              "      <th>5375</th>\n",
              "      <td>Brazil</td>\n",
              "      <td>2013</td>\n",
              "      <td>Educação</td>\n",
              "      <td>1</td>\n",
              "      <td>Enem 2013</td>\n",
              "    </tr>\n",
              "    <tr>\n",
              "      <th>5380</th>\n",
              "      <td>Brazil</td>\n",
              "      <td>2013</td>\n",
              "      <td>Entretenimento Multitelas</td>\n",
              "      <td>1</td>\n",
              "      <td>BBB 13</td>\n",
              "    </tr>\n",
              "    <tr>\n",
              "      <th>5385</th>\n",
              "      <td>Brazil</td>\n",
              "      <td>2013</td>\n",
              "      <td>Esportes</td>\n",
              "      <td>1</td>\n",
              "      <td>Copa das Confederações</td>\n",
              "    </tr>\n",
              "    <tr>\n",
              "      <th>5390</th>\n",
              "      <td>Brazil</td>\n",
              "      <td>2013</td>\n",
              "      <td>Famosos</td>\n",
              "      <td>1</td>\n",
              "      <td>MC Daleste</td>\n",
              "    </tr>\n",
              "    <tr>\n",
              "      <th>...</th>\n",
              "      <td>...</td>\n",
              "      <td>...</td>\n",
              "      <td>...</td>\n",
              "      <td>...</td>\n",
              "      <td>...</td>\n",
              "    </tr>\n",
              "    <tr>\n",
              "      <th>24250</th>\n",
              "      <td>Brazil</td>\n",
              "      <td>2020</td>\n",
              "      <td>Mortes</td>\n",
              "      <td>1</td>\n",
              "      <td>Diego Maradona</td>\n",
              "    </tr>\n",
              "    <tr>\n",
              "      <th>24255</th>\n",
              "      <td>Brazil</td>\n",
              "      <td>2020</td>\n",
              "      <td>Perguntas</td>\n",
              "      <td>1</td>\n",
              "      <td>Quem matou Max?</td>\n",
              "    </tr>\n",
              "    <tr>\n",
              "      <th>24260</th>\n",
              "      <td>Brazil</td>\n",
              "      <td>2020</td>\n",
              "      <td>Receitas</td>\n",
              "      <td>1</td>\n",
              "      <td>Pão caseiro</td>\n",
              "    </tr>\n",
              "    <tr>\n",
              "      <th>24265</th>\n",
              "      <td>Brazil</td>\n",
              "      <td>2020</td>\n",
              "      <td>Séries</td>\n",
              "      <td>1</td>\n",
              "      <td>The Witcher</td>\n",
              "    </tr>\n",
              "    <tr>\n",
              "      <th>24270</th>\n",
              "      <td>Brazil</td>\n",
              "      <td>2020</td>\n",
              "      <td>TV</td>\n",
              "      <td>1</td>\n",
              "      <td>BBB 2020</td>\n",
              "    </tr>\n",
              "  </tbody>\n",
              "</table>\n",
              "<p>120 rows × 5 columns</p>\n",
              "</div>"
            ],
            "text/plain": [
              "      location  year                   category  rank                   query\n",
              "5370    Brazil  2013            Automobilístico     1                    HB20\n",
              "5375    Brazil  2013                   Educação     1               Enem 2013\n",
              "5380    Brazil  2013  Entretenimento Multitelas     1                  BBB 13\n",
              "5385    Brazil  2013                   Esportes     1  Copa das Confederações\n",
              "5390    Brazil  2013                    Famosos     1              MC Daleste\n",
              "...        ...   ...                        ...   ...                     ...\n",
              "24250   Brazil  2020                     Mortes     1          Diego Maradona\n",
              "24255   Brazil  2020                  Perguntas     1         Quem matou Max?\n",
              "24260   Brazil  2020                   Receitas     1             Pão caseiro\n",
              "24265   Brazil  2020                     Séries     1             The Witcher\n",
              "24270   Brazil  2020                         TV     1                BBB 2020\n",
              "\n",
              "[120 rows x 5 columns]"
            ]
          },
          "metadata": {
            "tags": []
          },
          "execution_count": 104
        }
      ]
    }
  ]
}